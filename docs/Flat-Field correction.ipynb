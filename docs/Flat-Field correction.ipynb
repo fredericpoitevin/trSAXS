{
 "cells": [
  {
   "cell_type": "markdown",
   "metadata": {},
   "source": [
    "[Data manager]( https://pswww.slac.stanford.edu/apps/portal/index.php?exper_id=1184\n",
    ")"
   ]
  },
  {
   "cell_type": "markdown",
   "metadata": {},
   "source": [
    "$N$ runs were recorded at $N$ transmission values. Each run yields an average image $F_{k=1,N}$ whose average ADU value is $m_{k}$. Each pixel (i,j) has a recorded value $f_{k}(i,j)$, and an associated gain: \n",
    "$$g_{k}(i,j) = \\frac{m_{k}}{f_{k}(i,j)}$$.\n",
    "\n",
    "For each pixel, we thus have a discrete set of gains through which we can fit a polynomial $G(x)$, so that for any sample image $I(i,j)$ we get the corrected value \n",
    "$$J(i,j) = G(I(i,j))*I(i,j)$$\n"
   ]
  },
  {
   "cell_type": "markdown",
   "metadata": {},
   "source": [
    "The flat-field measurements were done at 10 decreasing values of transmission, from run 75 to 85"
   ]
  },
  {
   "cell_type": "markdown",
   "metadata": {},
   "source": [
    "### test on run 85\n",
    "we store here the command history"
   ]
  },
  {
   "cell_type": "markdown",
   "metadata": {},
   "source": [
    "For all run $i=75,85$, one does:\n",
    "```bash\n",
    "./do.bad.shit {i} 8 11000\n",
    "python ave.waxs.py {i}\n",
    "```\n",
    "The using `flatfield_getanidea.py`, we can look at the coverage:\n",
    "<!img src=\"./ff_hist.png\">\n"
   ]
  },
  {
   "cell_type": "markdown",
   "metadata": {},
   "source": [
    "### Jet geometry"
   ]
  },
  {
   "cell_type": "code",
   "execution_count": 11,
   "metadata": {},
   "outputs": [
    {
     "name": "stdout",
     "output_type": "stream",
     "text": [
      "1.4137166941154073e-18 2.7363636363636362e+23 386844.2953897614\n"
     ]
    }
   ],
   "source": [
    "from math import pi\n",
    "# some constants:\n",
    "Na = 6.02e23 # Avogadro number\n",
    "MW = 6.6e4   # g/mol\n",
    "L2m3 = 1e3   # convert L to m3\n",
    "# sample concentration\n",
    "c = 30 # mg/ml\n",
    "# scattering volume radius\n",
    "r = 300  # nm\n",
    "L = 5000 # nm (interaction length)\n",
    "#\n",
    "r = r*1e-9\n",
    "L = L*1e-9\n",
    "#V = 4.*pi*r*r*r/3.\n",
    "V = pi*r*r*L\n",
    "d = (Na*c/MW)*L2m3\n",
    "N = d*V\n",
    "print(V,d,N)\n",
    "#"
   ]
  },
  {
   "cell_type": "code",
   "execution_count": null,
   "metadata": {},
   "outputs": [],
   "source": []
  }
 ],
 "metadata": {
  "kernelspec": {
   "display_name": "Python 3",
   "language": "python",
   "name": "python3"
  },
  "language_info": {
   "codemirror_mode": {
    "name": "ipython",
    "version": 3
   },
   "file_extension": ".py",
   "mimetype": "text/x-python",
   "name": "python",
   "nbconvert_exporter": "python",
   "pygments_lexer": "ipython3",
   "version": "3.6.4"
  }
 },
 "nbformat": 4,
 "nbformat_minor": 2
}
