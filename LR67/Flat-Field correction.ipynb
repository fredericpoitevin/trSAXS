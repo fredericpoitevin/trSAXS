{
 "cells": [
  {
   "cell_type": "markdown",
   "metadata": {},
   "source": [
    "[Data manager]( https://pswww.slac.stanford.edu/apps/portal/index.php?exper_id=1184\n",
    ")"
   ]
  },
  {
   "cell_type": "markdown",
   "metadata": {},
   "source": [
    "$N$ runs were recorded at $N$ transmission values. Each run yields an average image $F_{k=1,N}$ whose average ADU value is $m_{k}$. Each pixel (i,j) has a recorded value $f_{k}(i,j)$, and an associated gain: \n",
    "$$g_{k}(i,j) = \\frac{m_{k}}{f_{k}(i,j)}$$.\n",
    "\n",
    "For each pixel, we thus have a discrete set of gains through which we can fit a polynomial $G(x)$, so that for any sample image $I(i,j)$ we get the corrected value \n",
    "$$J(i,j) = G(I(i,j))*I(i,j)$$\n"
   ]
  },
  {
   "cell_type": "markdown",
   "metadata": {},
   "source": [
    "The flat-field measurements were done at 10 decreasing values of transmission, from run 75 to 85"
   ]
  },
  {
   "cell_type": "markdown",
   "metadata": {},
   "source": [
    "### test on run 85\n",
    "we store here the command history"
   ]
  },
  {
   "cell_type": "markdown",
   "metadata": {},
   "source": [
    "Average the images of the run\n",
    "```bash\n",
    "./do.bad.shit 85 8 11000\n",
    "```\n",
    "This creates a `log` and a `WAXS` directory.\n",
    "\n"
   ]
  },
  {
   "cell_type": "code",
   "execution_count": null,
   "metadata": {},
   "outputs": [],
   "source": []
  }
 ],
 "metadata": {
  "kernelspec": {
   "display_name": "Python 3",
   "language": "python",
   "name": "python3"
  },
  "language_info": {
   "codemirror_mode": {
    "name": "ipython",
    "version": 3
   },
   "file_extension": ".py",
   "mimetype": "text/x-python",
   "name": "python",
   "nbconvert_exporter": "python",
   "pygments_lexer": "ipython3",
   "version": "3.6.4"
  }
 },
 "nbformat": 4,
 "nbformat_minor": 2
}
